{
 "cells": [
  {
   "cell_type": "code",
   "execution_count": 5,
   "metadata": {},
   "outputs": [],
   "source": [
    "from pyspark.sql import SparkSession\n",
    "\n",
    "spark = SparkSession.builder.master('local[*]').appName('test').getOrCreate()\n",
    "sc = spark.sparkContext"
   ]
  },
  {
   "cell_type": "code",
   "execution_count": null,
   "metadata": {},
   "outputs": [
    {
     "data": {
      "text/plain": [
       "[('file:/Users/wangbo/Desktop/dev/notes/Spark学习/tiny_csv/4.csv',\n",
       "  'feature1,feature2,feature3\\r\\n1,4,7\\r\\n2,5,8\\r\\n3,6,9\\r\\n'),\n",
       " ('file:/Users/wangbo/Desktop/dev/notes/Spark学习/tiny_csv/1.csv',\n",
       "  'feature1,feature2,feature3\\r\\n1,4,7\\r\\n2,5,8\\r\\n3,6,9\\r\\n'),\n",
       " ('file:/Users/wangbo/Desktop/dev/notes/Spark学习/tiny_csv/3.csv',\n",
       "  'feature1,feature2,feature3\\r\\n1,4,7\\r\\n2,5,8\\r\\n3,6,9\\r\\n'),\n",
       " ('file:/Users/wangbo/Desktop/dev/notes/Spark学习/tiny_csv/2.csv',\n",
       "  'feature1,feature2,feature3\\r\\n1,4,7\\r\\n2,5,8\\r\\n3,6,9\\r\\n')]"
      ]
     },
     "execution_count": 8,
     "metadata": {},
     "output_type": "execute_result"
    }
   ],
   "source": [
    "rdd = sc.wholeTextFiles('./tiny_csv')\n",
    "rdd.map(lambda x:x[1]).collect()"
   ]
  }
 ],
 "metadata": {
  "kernelspec": {
   "display_name": "base",
   "language": "python",
   "name": "python3"
  },
  "language_info": {
   "codemirror_mode": {
    "name": "ipython",
    "version": 3
   },
   "file_extension": ".py",
   "mimetype": "text/x-python",
   "name": "python",
   "nbconvert_exporter": "python",
   "pygments_lexer": "ipython3",
   "version": "3.12.3"
  }
 },
 "nbformat": 4,
 "nbformat_minor": 2
}
