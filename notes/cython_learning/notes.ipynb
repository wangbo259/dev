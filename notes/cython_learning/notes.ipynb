{
 "cells": [
  {
   "cell_type": "code",
   "execution_count": 2,
   "metadata": {},
   "outputs": [],
   "source": [
    "%load_ext Cython"
   ]
  },
  {
   "cell_type": "code",
   "execution_count": null,
   "metadata": {},
   "outputs": [],
   "source": [
    "%%cython\n",
    "cdef int i\n",
    "for i in range(10000000):\n",
    "    print(i)"
   ]
  },
  {
   "cell_type": "code",
   "execution_count": null,
   "metadata": {},
   "outputs": [],
   "source": [
    "for i in range(10000000):\n",
    "    print(i)"
   ]
  },
  {
   "cell_type": "code",
   "execution_count": 14,
   "metadata": {},
   "outputs": [
    {
     "name": "stdout",
     "output_type": "stream",
     "text": [
      "499999500000\n"
     ]
    }
   ],
   "source": [
    "total = 0\n",
    "for i in range(1000000):\n",
    "    total += i\n",
    "print(total)\n"
   ]
  },
  {
   "cell_type": "code",
   "execution_count": 21,
   "metadata": {},
   "outputs": [
    {
     "name": "stdout",
     "output_type": "stream",
     "text": [
      "Python sum time: 0.6061658749968046 seconds\n"
     ]
    }
   ],
   "source": [
    "import timeit\n",
    "\n",
    "# 正常的 Python 代码\n",
    "def python_sum():\n",
    "    total = 0\n",
    "    for i in range(1000000):\n",
    "        total += i\n",
    "    return total\n",
    "\n",
    "\n",
    "# 测试 Python 代码的执行时间\n",
    "python_time = timeit.timeit('python_sum()', globals=globals(), number=20)\n",
    "print(f\"Python sum time: {python_time} seconds\")"
   ]
  },
  {
   "cell_type": "code",
   "execution_count": 22,
   "metadata": {},
   "outputs": [],
   "source": [
    "%%cython\n",
    "import timeit\n",
    "\n",
    "# 定义 Cython 函数，使用 long long 避免溢出\n",
    "cdef long long cython_sum():\n",
    "    cdef int i\n",
    "    cdef long long total = 0  # 使用 long long 类型\n",
    "    for i in range(1000000):  # 从 1 到 100000\n",
    "        total += i\n",
    "    return total\n",
    "\n",
    "# 测试 Cython 代码的执行时间\n",
    "cython_time = timeit.timeit(lambda: cython_sum(), number=20)\n",
    "cython_result = cython_sum()  # 调用一次函数以获取结果\n",
    "print(f\"\\nCython sum result: {cython_result}\")\n",
    "print(f\"Cython sum time: {cython_time} seconds\")"
   ]
  },
  {
   "cell_type": "code",
   "execution_count": 23,
   "metadata": {},
   "outputs": [],
   "source": [
    "import cython"
   ]
  }
 ],
 "metadata": {
  "kernelspec": {
   "display_name": "base",
   "language": "python",
   "name": "python3"
  },
  "language_info": {
   "codemirror_mode": {
    "name": "ipython",
    "version": 3
   },
   "file_extension": ".py",
   "mimetype": "text/x-python",
   "name": "python",
   "nbconvert_exporter": "python",
   "pygments_lexer": "ipython3",
   "version": "3.12.3"
  }
 },
 "nbformat": 4,
 "nbformat_minor": 2
}
