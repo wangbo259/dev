{
 "cells": [
  {
   "cell_type": "markdown",
   "id": "195785a0",
   "metadata": {},
   "source": [
    "# 排序算法专题"
   ]
  },
  {
   "cell_type": "code",
   "execution_count": null,
   "id": "c26f515c",
   "metadata": {},
   "outputs": [],
   "source": [
    "import random\n",
    "nums = [i for i in range(100000)]\n",
    "random.shuffle(nums)"
   ]
  },
  {
   "cell_type": "markdown",
   "id": "872617ba",
   "metadata": {},
   "source": [
    "## 冒泡排序(相邻交换)---时间复杂度为n2"
   ]
  },
  {
   "cell_type": "code",
   "execution_count": null,
   "id": "4c4ea459",
   "metadata": {},
   "outputs": [],
   "source": [
    "###相邻两个数进行比较，按顺序交换，每次一定能找出一个最大值\n",
    "import time\n",
    "import copy\n",
    "def bubblesort(nums):\n",
    "    tmp = copy.copy(nums)\n",
    "    for i in range(1,len(tmp)):\n",
    "        for j in range(0,len(tmp)-i):\n",
    "            if tmp[j] > tmp[j+1]:\n",
    "                tmp[j],tmp[j+1] = tmp[j+1],tmp[j]\n",
    "    return tmp\n",
    "\n",
    "start = time.time()\n",
    "result = bubblesort(nums)\n",
    "end = time.time()\n",
    "print(end - start)"
   ]
  },
  {
   "cell_type": "markdown",
   "id": "762583cc",
   "metadata": {},
   "source": [
    "## 选择排序(选出最值进行交换)---时间复杂度为n2 "
   ]
  },
  {
   "cell_type": "code",
   "execution_count": null,
   "id": "f4476ed6",
   "metadata": {},
   "outputs": [],
   "source": [
    "###每次遍历选出最小的元素，然后交换到前面\n",
    "def choice(nums):\n",
    "    tmp = copy.copy(nums)\n",
    "    index = 0\n",
    "    for i in range(len(nums)-1):\n",
    "        for j in range(i,len(nums)):\n",
    "            if tmp[j] < tmp[index]:\n",
    "                index = j\n",
    "        tmp[index],tmp[i] = tmp[i],tmp[index]\n",
    "    return tmp\n",
    "\n",
    "start = time.time()\n",
    "result = choice(nums)\n",
    "end = time.time()\n",
    "print(end - start)"
   ]
  },
  {
   "cell_type": "markdown",
   "id": "cc8f2918",
   "metadata": {},
   "source": [
    "## 插入排序"
   ]
  },
  {
   "cell_type": "code",
   "execution_count": null,
   "id": "46007d64",
   "metadata": {},
   "outputs": [],
   "source": [
    "##构造有序序列，然后将未排序序列插入相应的位置\n",
    "def insert(nums):\n",
    "    tmp = copy.copy(nums)\n",
    "    for i in range(1,len(tmp)):\n",
    "        tmp_num = tmp[i]\n",
    "        index = i-1\n",
    "        while index >=0 and tmp[index] > tmp_num:\n",
    "            tmp[index+1] = tmp[index]\n",
    "            index -= 1\n",
    "        tmp[index+1] = tmp_num\n",
    "    return tmp\n",
    "\n",
    "start = time.time()\n",
    "result = insert(nums)\n",
    "end = time.time()\n",
    "print(end - start)"
   ]
  },
  {
   "cell_type": "markdown",
   "id": "c9016cd6",
   "metadata": {},
   "source": [
    "## 希尔排序---希尔排序的平均时间复杂度通常在O(n log n)和O(n^2)之间"
   ]
  },
  {
   "cell_type": "code",
   "execution_count": null,
   "id": "24624b9c",
   "metadata": {},
   "outputs": [],
   "source": [
    "###是插入排序的高效改进版，非稳定\n",
    "##思路：先将整个代排序列分割成为若干字序列分别进行插入排序，然后得到一个基本有序的序列，再对全体记录进行依次直接插入排序\n",
    "##按照增量因子作为步长来排序，最后一个增量因子为1\n",
    "def shell(nums,k=3):\n",
    "    tmp = copy.copy(nums)\n",
    "    step = 1\n",
    "    while step < len(tmp)//3:\n",
    "        step = 3*step + 1\n",
    "    while step >=1 :\n",
    "        for i in range(step,len(tmp)):\n",
    "            j = i - step\n",
    "            tmp_num = tmp[i]\n",
    "            while j>=0 and tmp_num < tmp[j]:\n",
    "                tmp[j+step] = tmp[j]\n",
    "                j -= step\n",
    "            tmp[j+step] = tmp_num\n",
    "        step = step//3\n",
    "    return tmp\n",
    "\n",
    "start = time.time()\n",
    "result = shell(nums)\n",
    "end = time.time()\n",
    "print(end - start)"
   ]
  },
  {
   "cell_type": "markdown",
   "id": "7c1730b3",
   "metadata": {},
   "source": [
    "## 归并排序--时间：nlogn 空间：n"
   ]
  },
  {
   "cell_type": "code",
   "execution_count": null,
   "id": "bfda232c",
   "metadata": {},
   "outputs": [],
   "source": [
    "def merge(left,right):\n",
    "    result = []\n",
    "    while left and right:\n",
    "        if left[0] <= right[0]:\n",
    "            result.append(left.pop(0))\n",
    "        else:\n",
    "            result.append(right.pop(0))\n",
    "    if left:\n",
    "        result += left\n",
    "    if right:\n",
    "        result += right\n",
    "    return result\n",
    "\n",
    "def mergesort(arr):\n",
    "    if len(arr) < 2: return arr\n",
    "    mid = len(arr)//2\n",
    "    return merge(mergesort(arr[:mid]),mergesort(arr[mid:]))\n",
    "\n",
    "##相当于深度优先排序，先到达最深处，在归并排序\n",
    "start = time.time()\n",
    "result = mergesort(nums)\n",
    "end = time.time()\n",
    "print(end - start)"
   ]
  },
  {
   "cell_type": "markdown",
   "id": "69cabf27",
   "metadata": {},
   "source": [
    "## 链表的归并排序"
   ]
  },
  {
   "cell_type": "code",
   "execution_count": null,
   "id": "a9af7d48",
   "metadata": {},
   "outputs": [],
   "source": [
    "###两个有序链表的归并排序\n",
    "class Solution:\n",
    "    def mergeTwoLists(self, list1: Optional[ListNode], list2: Optional[ListNode]) -> Optional[ListNode]:\n",
    "        if not list1 and list2:\n",
    "            return list2\n",
    "        elif list1 and not list2:\n",
    "            return list1\n",
    "        elif not list1 and not list2:\n",
    "            return None\n",
    "        \n",
    "        pre = ListNode(-1)\n",
    "        head = pre\n",
    "        while list1 and list2:\n",
    "            if list1.val <= list2.val:\n",
    "                head.next = list1\n",
    "                list1 = list1.next\n",
    "            else:\n",
    "                head.next = list2\n",
    "                list2 = list2.next\n",
    "            head = head.next\n",
    "        if list1==None and list2 != None:\n",
    "            head.next = list2\n",
    "        if list2 == None and list1 != None:\n",
    "            head.next = list1\n",
    "        return pre.next\n",
    "\n",
    "    \n",
    "###一个无序链表，通过递归和归并进行排序\n",
    "\n",
    "class Solution:\n",
    "    def sortList(self, head: Optional[ListNode]) -> Optional[ListNode]:\n",
    "        def merge(l1,l2):\n",
    "            head = ListNode(-1)\n",
    "            pre = head\n",
    "            tmp1,tmp2 = l1,l2\n",
    "            while tmp1 and tmp2:\n",
    "                if tmp1.val <= tmp2.val:\n",
    "                    pre.next = tmp1\n",
    "                    tmp1 = tmp1.next\n",
    "                else:\n",
    "                    pre.next = tmp2\n",
    "                    tmp2  = tmp2.next\n",
    "                pre = pre.next\n",
    "            if tmp1 == None and tmp2 != None:\n",
    "                pre.next = tmp2\n",
    "            if tmp1 != None and tmp2 == None:\n",
    "                pre.next = tmp1\n",
    "            return head.next\n",
    "        \n",
    "        def digui_sort(head,tail):\n",
    "            if not head: return head\n",
    "            if head.next == tail:\n",
    "                head.next = None ##为了merge\n",
    "                return head\n",
    "            tmp = head\n",
    "            fast,slow = tmp,tmp\n",
    "            while fast != tail:\n",
    "                fast = fast.next\n",
    "                slow = slow.next\n",
    "                if fast != tail:\n",
    "                    fast = fast.next\n",
    "            \n",
    "            return merge(digui_sort(head,slow),digui_sort(slow,tail))\n",
    "        \n",
    "        return digui_sort(head,None)"
   ]
  },
  {
   "cell_type": "markdown",
   "id": "0771bff5",
   "metadata": {},
   "source": [
    "## 快速排序---时间：nlogn，属于分治法\n",
    "排序 n 个项目要 Ο(nlogn) 次比较。在最坏状况下则需要 Ο(n2) 次比较\n",
    "快速排序的最坏运行情况是 O(n²)，比如说顺序数列的快排。但它的平摊期望时间是 O(nlogn)，且 O(nlogn) 记号中隐含的常数因子很小，比复杂度稳定等于 O(nlogn) 的归并排序要小很多。所以，对绝大多数顺序性较弱的随机数列而言，快速排序总是优于归并排序。"
   ]
  },
  {
   "cell_type": "code",
   "execution_count": null,
   "id": "8ceaa2eb",
   "metadata": {},
   "outputs": [],
   "source": [
    "#本质上来看，快速排序应该算是在冒泡排序基础上的递归分治法\n",
    "def swap(nums,i,j):\n",
    "    nums[i],nums[j] = nums[j],nums[i]\n",
    "    return nums\n",
    "\n",
    "def partitionsort(nums,left,right):\n",
    "    pivot = left\n",
    "    index = left + 1\n",
    "    i = index\n",
    "    while i <= right:\n",
    "        if nums[i] < nums[pivot]:\n",
    "            swap(nums,i,index)\n",
    "            index += 1\n",
    "        i += 1\n",
    "    swap(nums,pivot,index-1) ## index所在位置是大于pivot的开始，index-1是小于pivot的最后一个，将其将其进行交换，将大于和小于piovt的分到两边\n",
    "    return index-1\n",
    "\n",
    "def quicksort(nums,left=None,right=None):\n",
    "    left = 0 if left == None else left\n",
    "    right = len(nums)-1 if right == None else right\n",
    "    if left < right:\n",
    "        partitionindex = partitionsort(nums,left,right)\n",
    "        quicksort(nums,left,partitionindex-1)\n",
    "        quicksort(nums,partitionindex+1,right)\n",
    "    return nums\n",
    "\n",
    "arr = copy.copy(nums)\n",
    "start = time.time()\n",
    "result = quicksort(arr)\n",
    "end = time.time()\n",
    "print(end - start)\n"
   ]
  },
  {
   "cell_type": "code",
   "execution_count": null,
   "id": "f6dec59f",
   "metadata": {},
   "outputs": [],
   "source": [
    "a = [1,2,3]\n",
    "a.insert(0,2)"
   ]
  },
  {
   "cell_type": "markdown",
   "id": "a916fa8a",
   "metadata": {},
   "source": [
    "## 堆排序\n",
    "堆结构要记住：i为父节点，2i+1和2i+2分别为左右子节点\n",
    "对于数组，插入操作花费时间为O(1), 获取优先级最高的元素所需时间为O(n),因为要遍历n个元素确定优先级最高的元素。"
   ]
  },
  {
   "cell_type": "code",
   "execution_count": null,
   "id": "f0610d87",
   "metadata": {},
   "outputs": [],
   "source": [
    "###需要一个全局变量来控制未排序的序列的长度\n",
    "def swap(nums,i,j):\n",
    "    nums[i],nums[j] = nums[j],nums[i]\n",
    "\n",
    "\n",
    "def heapify(nums,i):\n",
    "    left = 2*i+1\n",
    "    right = 2*i+2\n",
    "    larget = i\n",
    "    if left < nums_len and nums[left] > nums[larget]:\n",
    "        larget = left\n",
    "    if right < nums_len and nums[right] > nums[larget]:\n",
    "        larget = right\n",
    "    \n",
    "    if larget != i:\n",
    "        swap(nums,i,larget)\n",
    "        heapify(nums,larget)\n",
    "\n",
    "def build_max_heap(nums):\n",
    "    for i in range(len(nums)//2+1,-1,-1):\n",
    "        heapify(nums,i)\n",
    "\n",
    "\n",
    "def heapsort(nums):\n",
    "    global nums_len\n",
    "    nums_len = len(nums)\n",
    "    build_max_heap(nums)\n",
    "    for i in range(len(nums)-1,0,-1):\n",
    "        swap(nums,i,0)\n",
    "        nums_len -= 1\n",
    "        heapify(nums,0)\n",
    "    return nums"
   ]
  },
  {
   "cell_type": "code",
   "execution_count": null,
   "id": "cee60fcc",
   "metadata": {},
   "outputs": [],
   "source": [
    "def swap(nums,i,j):\n",
    "    nums[i],nums[j] = nums[j],nums[i]\n",
    "    \n",
    "def heapify(nums,i):\n",
    "    left = 2*i+1\n",
    "    right = 2*i+2\n",
    "    maxs = i\n",
    "    if left < heap_len and nums[left]>nums[i]:\n",
    "        maxs = left\n",
    "    if right < heap_len and nums[right]>nums[i]:\n",
    "        maxs = right\n",
    "    \n",
    "    if i != maxs:\n",
    "        swap(nums,i,maxs)\n",
    "        heapify(nums,maxs)\n",
    "    \n",
    "def buildmaxheap(nums):\n",
    "    n = len(nums)//2 +1\n",
    "    for i in range(n,-1,-1):\n",
    "        heapify(nums,i)\n",
    "    \n",
    "def heapsort(nums):\n",
    "    global heap_len\n",
    "    heap_len = len(nums)\n",
    "    buildmaxheap(nums)\n",
    "    for i in range(len(nums)-1,0,-1):\n",
    "        swap(nums,i,0)\n",
    "        heap_len -= 1\n",
    "        heapify(nums,0)\n",
    "    return nums\n",
    "\n",
    "result = heapsort(nums)"
   ]
  },
  {
   "cell_type": "code",
   "execution_count": null,
   "id": "f9ea1b23",
   "metadata": {},
   "outputs": [],
   "source": [
    "import copy\n",
    "import time\n",
    "arr = copy.copy(nums)\n",
    "start = time.time()\n",
    "result = heapsort(arr)\n",
    "end = time.time()\n",
    "print(end - start)"
   ]
  },
  {
   "cell_type": "markdown",
   "id": "74e28e5c",
   "metadata": {},
   "source": [
    "## 计数排序\n",
    "计数排序的特征:\n",
    "当输入的元素是 n 个 0 到 k 之间的整数时，它的运行时间是 Θ(n + k)。计数排序不是比较排序，排序的速度快于任何比较排序算法。\n",
    "由于用来计数的数组C的长度取决于待排序数组中数据的范围（等于待排序数组的最大值与最小值的差加上1），这使得计数排序对于数据范围很大的数组，需要大量时间和内存。例如：计数排序是用来排序0到100之间的数字的最好的算法，但是它不适合按字母顺序排序人名。但是，计数排序可以用在基数排序中的算法来排序数据范围很大的数组。"
   ]
  },
  {
   "cell_type": "code",
   "execution_count": null,
   "id": "c7ec447f",
   "metadata": {},
   "outputs": [],
   "source": [
    "##先拿一个数据进行计数，在返回去填充\n",
    "\n",
    "def countsort(nums):\n",
    "    maxnum = 0\n",
    "    for i in nums:\n",
    "        maxnum = max(i,maxnum)\n",
    "        \n",
    "    tmp = [0]*(maxnum+1)\n",
    "    \n",
    "    for i in range(len(nums)):\n",
    "        tmp[nums[i]] += 1\n",
    "    index = 0\n",
    "    for i,j in enumerate(tmp):\n",
    "        while j>0:\n",
    "            nums[index] = i\n",
    "            j -= 1\n",
    "            index += 1\n",
    "    return nums\n",
    "\n",
    "arr = copy.copy(nums)\n",
    "start = time.time()\n",
    "result = countsort(arr)\n",
    "end = time.time()\n",
    "print(end - start)"
   ]
  },
  {
   "cell_type": "markdown",
   "id": "df3d5132",
   "metadata": {},
   "source": [
    "## 桶排序"
   ]
  },
  {
   "cell_type": "code",
   "execution_count": null,
   "id": "bc9ea93b",
   "metadata": {},
   "outputs": [],
   "source": [
    "# coding=utf-8\n",
    "def bucket_sort(nums):\n",
    "    min_num, max_num = min(nums), max(nums)\n",
    "    n = max_num - min_num\n",
    "    k = int(n**(0.5))+1\n",
    "    buckets = [[] for _ in range(k)]\n",
    "\n",
    "    for num in nums:\n",
    "        buckets[(num-min_num)//k].append(num)\n",
    "    new_array = []\n",
    "\n",
    "    for i in buckets:\n",
    "        i.sort()\n",
    "        new_array += i\n",
    "    return new_array\n",
    "\n",
    "arr = copy.copy(nums)\n",
    "start = time.time()\n",
    "result = bucket_sort(arr)\n",
    "end = time.time()\n",
    "print(end - start)"
   ]
  },
  {
   "cell_type": "markdown",
   "id": "8683228b",
   "metadata": {},
   "source": [
    "## 基数排序"
   ]
  },
  {
   "cell_type": "code",
   "execution_count": null,
   "id": "96f54ef7",
   "metadata": {},
   "outputs": [],
   "source": [
    "def radixsort(nums):\n",
    "    maxs = len(str(max(abs(max(nums)),abs(min(nums)))))\n",
    "    tmp = [[] for _ in range(10)]\n",
    "    \n",
    "    for i in range(maxs+1):\n",
    "        index = 10**i\n",
    "        for j in nums:\n",
    "            tmp[j//index %10].append(j)\n",
    "        nums = []\n",
    "        for j in tmp:\n",
    "            nums += j\n",
    "        tmp = [[] for _ in range(10)]\n",
    "    return nums\n",
    "\n",
    "arr = copy.copy(nums)\n",
    "start = time.time()\n",
    "result = radixsort(arr)\n",
    "end = time.time()\n",
    "print(end - start)"
   ]
  },
  {
   "cell_type": "markdown",
   "id": "cf46df38",
   "metadata": {},
   "source": [
    "# 动态规划&滑动窗口\n",
    "    1、注意推导状态转移方程，再去优化空间,状态要独立，但是状态的结果依赖\n",
    "    2、滑动窗口方法不固定使用什么来记录窗口，可以用set也可以用双指针，分情况\n",
    "    3、定义各种类型操作，这种也是动态规划"
   ]
  },
  {
   "cell_type": "markdown",
   "id": "8672763e",
   "metadata": {},
   "source": [
    "## 异或运算结果为指定数的整数对\n",
    "整数对必然在整个数组中，在遍历过程中必然有先后次序，用字典来记录整个数据对出现的节点。"
   ]
  },
  {
   "cell_type": "code",
   "execution_count": 6,
   "id": "5f179aee",
   "metadata": {},
   "outputs": [
    {
     "name": "stdout",
     "output_type": "stream",
     "text": [
      "5\n",
      "2\n",
      "6\n",
      "6 5\n",
      "4\n",
      "1\n",
      "1 2\n",
      "2\n"
     ]
    }
   ],
   "source": [
    "def find_pair(nums,m):\n",
    "    count = 0\n",
    "    num_dict = {}\n",
    "    \n",
    "    for num in nums:\n",
    "        print(num)\n",
    "        temp = num^m\n",
    "        if temp in num_dict:\n",
    "            print(num,temp)\n",
    "            count += num_dict[temp]\n",
    "        if num in num_dict:\n",
    "            num_dict[num] += 1\n",
    "        else:\n",
    "            num_dict[num] = 1\n",
    "    \n",
    "    return count\n",
    "nums = [5,2,6,4,1]\n",
    "m = 3\n",
    "print(find_pair(nums,m))"
   ]
  },
  {
   "cell_type": "markdown",
   "id": "50e3ade0",
   "metadata": {},
   "source": [
    "## 最长公共子序列\n",
    "dp中存储的是0:i和0:j的最长公共长度"
   ]
  },
  {
   "cell_type": "code",
   "execution_count": null,
   "id": "2551c731",
   "metadata": {},
   "outputs": [],
   "source": [
    "class Solution:\n",
    "    def longestCommonSubsequence(self, text1: str, text2: str) -> int:\n",
    "        n,m = len(text1),len(text2)\n",
    "        dp = [[0]*(m+1) for _ in range(n+1)]\n",
    "        for i in range(1,n+1):\n",
    "            for j in range(1,m+1):\n",
    "                if text1[i-1] == text2[j-1]:\n",
    "                    dp[i][j] = dp[i-1][j-1]+1\n",
    "                else:\n",
    "                    ## 不相等的话直接继承左侧或上侧的结果\n",
    "                    dp[i][j] = max(dp[i-1][j],dp[i][j-1])\n",
    "        return dp[n][m]\n"
   ]
  },
  {
   "cell_type": "markdown",
   "id": "571b93fd",
   "metadata": {},
   "source": [
    "## 分割等和子集\n",
    "dp中存储的是0:i中是否存在和为j"
   ]
  },
  {
   "cell_type": "code",
   "execution_count": null,
   "id": "504ba82b",
   "metadata": {},
   "outputs": [],
   "source": [
    "class Solution:\n",
    "    def canPartition(self, nums: List[int]) -> bool:\n",
    "        ## 挑出一些数字的和等于数组所有元素和的一半\n",
    "        ## 最终为了求是否存在子数组和等于元素和的一半，视为target，将这个目标转化为动态过程，求解是否能一步一步到达target，所以求解过程变量dp\n",
    "        n = len(nums)\n",
    "        ## 预处理\n",
    "        if n < 2:\n",
    "            return False\n",
    "        if sum(nums)%2==1:\n",
    "            return False\n",
    "        target = sum(nums)//2\n",
    "        if max(nums)>target:\n",
    "            return False\n",
    "        dp = [[False]*(target+1) for _ in range(n)]\n",
    "\n",
    "        for i in range(n):\n",
    "            dp[i][0] = True\n",
    "        dp[0][nums[0]] = True\n",
    "\n",
    "        for i in range(1,n):\n",
    "            tmp = nums[i]\n",
    "            for j in range(1,target+1):\n",
    "                if j>=tmp:\n",
    "                    dp[i][j] = dp[i-1][j] | dp[i-1][j-nums[i]]\n",
    "                else:\n",
    "                    dp[i][j] = dp[i-1][j]\n",
    "        return dp[n-1][target]"
   ]
  },
  {
   "cell_type": "markdown",
   "id": "dcc564e6",
   "metadata": {},
   "source": [
    "## 分割回文串\n",
    "回溯方法，预处理了回文串矩阵，回文串矩阵中存储的是i:j是否为回文串【上三角矩阵】"
   ]
  },
  {
   "cell_type": "code",
   "execution_count": null,
   "id": "4636efa4",
   "metadata": {},
   "outputs": [],
   "source": [
    "class Solution:\n",
    "    def partition(self, s: str) -> List[List[str]]:\n",
    "        # 记录i：j的字符串是否为回文串\n",
    "        # 边界条件：1、字符串长度为1，是回文串\n",
    "        #         2、求的是i：j，所以要求i<j，如果i>j，则处于边界条件，状态转移方程为判断s[i],s[j]和s[i+1:j-1]，所以如果i<j但是i+1>j-1时，只需要判断s[i]和s[j]，故将s[i+1:j-1]视为假条件（处理为1）\n",
    "        n = len(s)\n",
    "        hui = [[True]*n for _ in range(n)]\n",
    "        for i in range(n-1,-1,-1):# 闭区间\n",
    "            for j in range(i+1,n):\n",
    "                hui[i][j] = (s[i]==s[j]) and hui[i+1][j-1]\n",
    "        \n",
    "        result = []\n",
    "        tmp = []\n",
    "        def dfs(i):\n",
    "            if i == n:\n",
    "                result.append(tmp[:])\n",
    "            \n",
    "            for j in range(i,n):## 单个字符串也要进入便利\n",
    "                if hui[i][j]:\n",
    "                    tmp.append(s[i:j+1])\n",
    "                    dfs(j+1)\n",
    "                    tmp.pop()\n",
    "        dfs(0)\n",
    "        return result"
   ]
  },
  {
   "cell_type": "markdown",
   "id": "9ac3ef36",
   "metadata": {},
   "source": [
    "## 最长递增子序列"
   ]
  },
  {
   "cell_type": "code",
   "execution_count": null,
   "id": "78bc97e2",
   "metadata": {},
   "outputs": [],
   "source": [
    "class Solution:\n",
    "    def lengthOfLIS(self, nums: List[int]) -> int:\n",
    "        ## dp记录截止到当前位置的最长递增子序列\n",
    "        n = len(nums)\n",
    "        dp = [1]*n\n",
    "        for i in range(1,n):\n",
    "            for j in range(i):\n",
    "                if nums[j]<nums[i]:\n",
    "                    dp[i] = max(dp[i],dp[j]+1)\n",
    "        return max(dp)"
   ]
  },
  {
   "cell_type": "markdown",
   "id": "4911724b",
   "metadata": {},
   "source": [
    "## 编辑距离"
   ]
  },
  {
   "cell_type": "code",
   "execution_count": null,
   "id": "2145b399",
   "metadata": {},
   "outputs": [],
   "source": [
    "class Solution:\n",
    "    def minDistance(self, word1: str, word2: str) -> int:\n",
    "        ## hard\n",
    "        ## 关键在于对A字符操作相当于对B进行逆操作，本质上编辑距离是对称的。\n",
    "        ## 同时，增加子序列插入或者删除一个字符后的序列等于之前的编辑距离+1\n",
    "        m,n = len(word1),len(word2)\n",
    "        dp = [[0]*(n+1) for i in range(m+1)]\n",
    "        for i in range(n+1):\n",
    "            dp[0][i] = i\n",
    "        for j in range(m+1):\n",
    "            dp[j][0] = j\n",
    "        for i in range(1,n+1):\n",
    "            for j in range(1,m+1):\n",
    "                if word1[j-1] == word2[i-1]:\n",
    "                    dp[j][i] =  min(dp[j-1][i],dp[j][i-1],dp[j-1][i-1]-1)+1\n",
    "                else:\n",
    "                    dp[j][i] = min(dp[j-1][i],dp[j][i-1],dp[j-1][i-1])+1\n",
    "        return dp[m][n]"
   ]
  },
  {
   "cell_type": "markdown",
   "id": "fd46f31a",
   "metadata": {},
   "source": [
    "## 最小路径和"
   ]
  },
  {
   "cell_type": "code",
   "execution_count": null,
   "id": "70582527",
   "metadata": {},
   "outputs": [],
   "source": [
    "class Solution:\n",
    "    def minPathSum(self, grid: List[List[int]]) -> int:\n",
    "        m,n = len(grid),len(grid[0])\n",
    "        dp = [[0]*n for i in range(m)]\n",
    "        dp[0][0] = grid[0][0]\n",
    "        for i in range(1,n):\n",
    "            dp[0][i] = grid[0][i]+dp[0][i-1]\n",
    "        for j in range(1,m):\n",
    "            dp[j][0] = grid[j][0]+dp[j-1][0]\n",
    "        \n",
    "        for i in range(1,n):\n",
    "            for j in range(1,m):\n",
    "                dp[j][i] = min(dp[j-1][i],dp[j][i-1])+grid[j][i]\n",
    "        return dp[m-1][n-1]"
   ]
  },
  {
   "cell_type": "markdown",
   "id": "b0b8c96f",
   "metadata": {},
   "source": [
    "## 不同路径2"
   ]
  },
  {
   "cell_type": "code",
   "execution_count": null,
   "id": "73b2761e",
   "metadata": {},
   "outputs": [],
   "source": [
    "## 增加了障碍\n",
    "class Solution:\n",
    "    def uniquePathsWithObstacles(self, obstacleGrid: List[List[int]]) -> int:\n",
    "        if obstacleGrid[0][0]==1: return 0\n",
    "        m,n = len(obstacleGrid),len(obstacleGrid[0])\n",
    "        dp = [[0]*n for i in range(m)]\n",
    "        dp[0][0] = 1\n",
    "        for i in range(1,n):\n",
    "            if obstacleGrid[0][i]!=1 and dp[0][i-1]!=0:\n",
    "                dp[0][i] = 1\n",
    "        for j in range(1,m):\n",
    "            if obstacleGrid[j][0]!=1 and dp[j-1][0]!=0:\n",
    "                dp[j][0] = 1\n",
    "        for i in range(1,n):\n",
    "            for j in range(1,m):\n",
    "                if obstacleGrid[j][i]!=1:\n",
    "                    dp[j][i] = dp[j-1][i]+dp[j][i-1]\n",
    "        return dp[m-1][n-1]"
   ]
  },
  {
   "cell_type": "markdown",
   "id": "4bee373f",
   "metadata": {},
   "source": [
    "## 不同路径\n",
    "有点像模拟"
   ]
  },
  {
   "cell_type": "code",
   "execution_count": null,
   "id": "2afb40d2",
   "metadata": {},
   "outputs": [],
   "source": [
    "# 只能向右或向下走\n",
    "class Solution:\n",
    "    def uniquePaths(self, m: int, n: int) -> int:\n",
    "        dp = [[0]*n for i in range(m)]\n",
    "        for i in range(m):\n",
    "            dp[i][0] = 1\n",
    "        for j in range(n):\n",
    "            dp[0][j] = 1\n",
    "        for i in range(1,m):\n",
    "            for j in range(1,n):\n",
    "                dp[i][j] = dp[i-1][j] + dp[i][j-1]\n",
    "        return dp[m-1][n-1]"
   ]
  },
  {
   "cell_type": "markdown",
   "id": "adee1fc9",
   "metadata": {},
   "source": [
    "## 括号生成"
   ]
  },
  {
   "cell_type": "code",
   "execution_count": null,
   "id": "279260bb",
   "metadata": {},
   "outputs": [],
   "source": [
    "# 用迭代公式\"{}({})\"去逐步生成\n",
    "class Solution:\n",
    "    def generateParenthesis(self, n: int) -> List[str]:\n",
    "        if n==1:\n",
    "            return ['()']\n",
    "        alls = {0:[''],1:['()']}\n",
    "        s = \"{}({})\"\n",
    "        for i in range(2,n+1):\n",
    "            tmp = []\n",
    "            for j in range(i):\n",
    "                for value1 in alls[j]:\n",
    "                    for value2 in alls[i-j-1]:\n",
    "                        tmp.append(s.format(value1,value2))\n",
    "            alls[i] = tmp\n",
    "        return alls[n]"
   ]
  },
  {
   "cell_type": "markdown",
   "id": "7eed35c1",
   "metadata": {},
   "source": [
    "## 最长回文子序列"
   ]
  },
  {
   "cell_type": "code",
   "execution_count": 1,
   "id": "bc4205c6",
   "metadata": {},
   "outputs": [
    {
     "ename": "SyntaxError",
     "evalue": "invalid character '：' (U+FF1A) (4012345633.py, line 1)",
     "output_type": "error",
     "traceback": [
      "\u001b[0;36m  Cell \u001b[0;32mIn[1], line 1\u001b[0;36m\u001b[0m\n\u001b[0;31m    状态转移方程：\u001b[0m\n\u001b[0m          ^\u001b[0m\n\u001b[0;31mSyntaxError\u001b[0m\u001b[0;31m:\u001b[0m invalid character '：' (U+FF1A)\n"
     ]
    }
   ],
   "source": [
    "# 状态转移方程：\n",
    "# 如果s[i] = s[j]，则dp[i][j] = dp[i+1][j-1]+2 :直接将两端加入\n",
    "# 如果s[i]!=s[j]，则dp[i][j] = max(dp[i+1][j],dp[i][j-1]) ：继承加入某一断后的最大的那个\n",
    "\n",
    "class Solution:\n",
    "    def longestPalindromeSubseq(self, s: str) -> int:\n",
    "        n = len(s)\n",
    "        dp = [[0]*n for i in range(n)]\n",
    "        ## 对角线元素就是i2i，一定为1\n",
    "        for i in range(n):\n",
    "            dp[i][i] = 1\n",
    "        \n",
    "        for i in range(n-1,-1,-1):\n",
    "            for j in range(i+1,n):\n",
    "                if s[i] == s[j]:\n",
    "                    dp[i][j] = dp[i+1][j-1]+2\n",
    "                else:\n",
    "                    dp[i][j] = max(dp[i+1][j],dp[i][j-1])\n",
    "        return dp[0][n-1]"
   ]
  },
  {
   "cell_type": "markdown",
   "id": "d10833ac",
   "metadata": {},
   "source": [
    "## 滑动窗口最大值\n",
    "hard：好牛的单调队列"
   ]
  },
  {
   "cell_type": "code",
   "execution_count": null,
   "id": "2f9757c6",
   "metadata": {},
   "outputs": [],
   "source": [
    "class Solution:\n",
    "    from collections import deque\n",
    "    def maxSlidingWindow(self, nums: List[int], k: int) -> List[int]:\n",
    "        n = len(nums)\n",
    "        q = collections.deque()\n",
    "        for i in range(k):\n",
    "            while q and nums[i] >= nums[q[-1]]:\n",
    "                q.pop()\n",
    "            q.append(i)\n",
    "        print(q)\n",
    "        ans = [nums[q[0]]]\n",
    "        for i in range(k, n):\n",
    "            while q and nums[i] >= nums[q[-1]]:\n",
    "                q.pop()\n",
    "            q.append(i)\n",
    "            while q[0] <= i - k:\n",
    "                q.popleft()\n",
    "            ans.append(nums[q[0]])\n",
    "        \n",
    "        return ans"
   ]
  },
  {
   "cell_type": "markdown",
   "id": "bbb42899",
   "metadata": {},
   "source": [
    "## 至多包含两个不同字符的最长字串"
   ]
  },
  {
   "cell_type": "code",
   "execution_count": null,
   "id": "082d7783",
   "metadata": {},
   "outputs": [],
   "source": [
    "class Solution:\n",
    "    def lengthOfLongestSubstringTwoDistinct(self, s: str) -> int:\n",
    "        ## left和right用来更新窗口\n",
    "        ## 维护一个字典，字典记录每个字符在窗口中最右端的位置，用来更新left\n",
    "        if len(s) <=2:\n",
    "            return len(s)\n",
    "        n = len(s)\n",
    "        left,right = 0,0\n",
    "        result = 2\n",
    "        windows = dict()\n",
    "        ## 夹在初始的两个\n",
    "        while right < n:\n",
    "            k = len(windows)\n",
    "            if k <= 1:\n",
    "                windows[s[right]] = right\n",
    "            else:\n",
    "                if s[right] in windows:\n",
    "                    windows[s[right]] = right\n",
    "                else:\n",
    "                    ## 需要踢出的字符的右边一个单位\n",
    "                    left = windows.pop((windows.keys()-s[right-1]).pop())+1 \n",
    "                    windows[s[right]] = right\n",
    "            result = max(result,right - left+1)\n",
    "            right += 1\n",
    "        return result"
   ]
  },
  {
   "cell_type": "markdown",
   "id": "bec3227b",
   "metadata": {},
   "source": [
    "## 最长无重复字串"
   ]
  },
  {
   "cell_type": "code",
   "execution_count": null,
   "id": "35ce1e2b",
   "metadata": {},
   "outputs": [],
   "source": [
    "class Solution:\n",
    "    def lengthOfLongestSubstring(self, s: str) -> int:\n",
    "        n = len(s)\n",
    "        if n ==0: return 0\n",
    "        dp = [1]*n\n",
    "        \n",
    "        for i in range(1,n):\n",
    "            if s[i] not in s[i-dp[i-1]:i]:\n",
    "                dp[i] = dp[i-1]+1\n",
    "            else:\n",
    "                tmp = dp[i-1]\n",
    "                while tmp>1:\n",
    "                    if s[i-tmp] == s[i]:\n",
    "                        break\n",
    "                    else:\n",
    "                        tmp -= 1\n",
    "                dp[i] = tmp\n",
    "        return max(dp)\n",
    "    \n",
    "    \n",
    "    \n",
    "## 滑动窗口的方法记录窗口中的无重复元素，空间消耗小一点，速度更慢一些\n",
    "class Solution:\n",
    "    def lengthOfLongestSubstring(self, s: str) -> int:\n",
    "        ## 滑动窗口方法，利用set记录上一个窗口中的所有无重复元素，往前滑的时候把上一个剃掉，判断新的\n",
    "        n = len(s)\n",
    "        if n==0:return 0\n",
    "        visted = set()\n",
    "        right = 0\n",
    "        result = 1\n",
    "        for i in range(n):\n",
    "            if i != 0:\n",
    "                visted.remove(s[i-1])\n",
    "            while right< n and s[right] not in visted:\n",
    "                visted.add(s[right])\n",
    "                right += 1\n",
    "            result = max(result,len(visted))\n",
    "        return result"
   ]
  },
  {
   "cell_type": "markdown",
   "id": "2b320cd1",
   "metadata": {},
   "source": [
    "## 爬楼梯最小消耗"
   ]
  },
  {
   "cell_type": "code",
   "execution_count": null,
   "id": "3f271453",
   "metadata": {},
   "outputs": [],
   "source": [
    "class Solution:\n",
    "    def minCostClimbingStairs(self, cost: List[int]) -> int:\n",
    "        n = len(cost)\n",
    "        result = [0]*n\n",
    "        result[-1],result[-2] = cost[-1],cost[-2]\n",
    "        for i in range(n-3,-1,-1):\n",
    "            result[i] = min(result[i+1],result[i+2]) + cost[i]\n",
    "        \n",
    "        return min(result[0],result[1])"
   ]
  },
  {
   "cell_type": "markdown",
   "id": "4f981b55",
   "metadata": {},
   "source": [
    "## 最长递增字序列"
   ]
  },
  {
   "cell_type": "code",
   "execution_count": null,
   "id": "89aab2eb",
   "metadata": {},
   "outputs": [],
   "source": [
    "class Solution:\n",
    "    def lengthOfLIS(self, nums: List[int]) -> int:\n",
    "        dp = [0]*len(nums)\n",
    "        dp[0] = 1\n",
    "        for i in range(1,len(nums)):\n",
    "            tmp = []\n",
    "            for j in range(i):\n",
    "                if nums[i] > nums[j]:\n",
    "                    tmp.append(dp[j]+1)\n",
    "            dp[i] = max(tmp) if len(tmp)!=0 else 1\n",
    "        return max(dp)"
   ]
  },
  {
   "cell_type": "markdown",
   "id": "a17965d7",
   "metadata": {},
   "source": [
    "## 打家劫舍"
   ]
  },
  {
   "cell_type": "code",
   "execution_count": null,
   "id": "9428ff3b",
   "metadata": {},
   "outputs": [],
   "source": [
    "class Solution:\n",
    "    def rob(self, nums: List[int]) -> int:\n",
    "        n = len(nums)\n",
    "        if n <= 2:return max(nums)\n",
    "        dp = [0]*n\n",
    "        dp[0] = nums[0]\n",
    "        dp[1] = nums[1]\n",
    "        for i in range(2,n):\n",
    "            tmp = 0\n",
    "            for j in range(i-1):\n",
    "                tmp = max(tmp,nums[i]+dp[j])\n",
    "            dp[i] = tmp\n",
    "        return max(dp)"
   ]
  },
  {
   "cell_type": "markdown",
   "id": "9932a116",
   "metadata": {},
   "source": [
    "## 零钱兑换"
   ]
  },
  {
   "cell_type": "code",
   "execution_count": null,
   "id": "d935047b",
   "metadata": {},
   "outputs": [],
   "source": [
    "##考虑每个金额的兑换可能，解子方程\n",
    "class Solution:\n",
    "    def coinChange(self, coins: List[int], amount: int) -> int:\n",
    "        dp = [amount+1]*(amount+1)\n",
    "        dp[0] = 0\n",
    "        for coin in coins:\n",
    "            for x in range(coin,amount+1):\n",
    "                dp[x] = min(dp[x],dp[x-coin]+1)\n",
    "        return dp[amount] if dp[amount]!= amount+1 else -1"
   ]
  },
  {
   "cell_type": "markdown",
   "id": "954cebbc",
   "metadata": {},
   "source": [
    "## 跳跃游戏I:能否跳到最后一个位置"
   ]
  },
  {
   "cell_type": "code",
   "execution_count": null,
   "id": "d1cd5af6",
   "metadata": {},
   "outputs": [],
   "source": [
    "#判断最远位置的转换\n",
    "class Solution:\n",
    "    def canJump(self,nums):\n",
    "        maxdistance = 0\n",
    "        for i,j in enumerate(nums):\n",
    "            if i<=maxdistance:\n",
    "                maxdistance = max(maxdistance,i+j)\n",
    "            else:\n",
    "                return False\n",
    "        return True"
   ]
  },
  {
   "cell_type": "markdown",
   "id": "387bf2c8",
   "metadata": {},
   "source": [
    "## 跳跃游戏二：跳到最后一个位置需要的最少跳跃次数"
   ]
  },
  {
   "cell_type": "code",
   "execution_count": null,
   "id": "8ab01240",
   "metadata": {},
   "outputs": [],
   "source": [
    "#通过最远可到达位置的更新和上一次边界的更新不同步，每次遍历到边界位置时代表已经进行了一次跳跃\n",
    "class Solution:\n",
    "    def jump(self, nums: List[int]) -> int:\n",
    "        n = len(nums)\n",
    "        if n == 1: return 0\n",
    "        maxdistance = 0\n",
    "        result = 0\n",
    "        bound = 0\n",
    "        for i,j in enumerate(nums):\n",
    "            if i <= maxdistance:\n",
    "                if maxdistance < i+j:\n",
    "                    maxdistance = i+j\n",
    "            if i == bound:\n",
    "                bound = maxdistance\n",
    "                result += 1\n",
    "            if bound >= n-1:\n",
    "                return result\n",
    "        return -1"
   ]
  },
  {
   "cell_type": "markdown",
   "id": "b5ebc68f",
   "metadata": {},
   "source": [
    "## 买卖股票的最佳时机\n",
    "定义状态转换：分为当天持有股票和当天未持有股票，当天的收益取决于前一天持有股票的最大收益，定义最大收益的转移"
   ]
  },
  {
   "cell_type": "code",
   "execution_count": null,
   "id": "a2957bd5",
   "metadata": {},
   "outputs": [],
   "source": [
    "#借用2n个空间，空间复杂度为O(n),只有一次遍历数据，时间复杂度为O(n)\n",
    "class Solution:\n",
    "    def maxProfit(self, prices: List[int]) -> int:\n",
    "        n = len(prices)\n",
    "        dp = [[0,0]]*n\n",
    "        dp[0][0],dp[0][1] = 0,-prices[0]\n",
    "        for i in range(1,n):\n",
    "            dp[i][0] = max(dp[i-1][0],dp[i-1][1]+prices[i])\n",
    "            dp[i][1] = max(dp[i-1][1],dp[i-1][0]-prices[i])\n",
    "\n",
    "        return dp[n-1][0]"
   ]
  },
  {
   "cell_type": "markdown",
   "id": "b1a83d7b",
   "metadata": {},
   "source": [
    "## 最大连续子数组和\n",
    "给你一个整数数组 nums ，请你找出一个具有最大和的连续子数组（子数组最少包含一个元素），返回其最大和。\n",
    "\n",
    "子数组 是数组中的一个连续部分。\n",
    "\n",
    " \n",
    "\n",
    "示例 1：\n",
    "\n",
    "输入：nums = [-2,1,-3,4,-1,2,1,-5,4]\n",
    "输出：6\n",
    "解释：连续子数组 [4,-1,2,1] 的和最大，为 6 。\n",
    "示例 2：\n",
    "\n",
    "输入：nums = [1]\n",
    "输出：1\n",
    "示例 3：\n",
    "\n",
    "输入：nums = [5,4,-1,7,8]\n",
    "输出：23"
   ]
  },
  {
   "cell_type": "code",
   "execution_count": null,
   "id": "fee14cff",
   "metadata": {},
   "outputs": [],
   "source": [
    "##分解为无后效行和有关联的子问题\n",
    "class Solution:\n",
    "    def maxSubArray(self, nums: List[int]) -> int:\n",
    "        n = len(nums)\n",
    "        if n == 1: return nums[0]\n",
    "\n",
    "        result = nums[0]\n",
    "        \n",
    "        for i in range(n):\n",
    "            if i == 0:\n",
    "                pre = nums[0]\n",
    "            else:\n",
    "                if pre > 0:\n",
    "                    pre = pre + nums[i]\n",
    "                else:\n",
    "                    pre = nums[i]\n",
    "            result = max(pre,result)\n",
    "        return result"
   ]
  },
  {
   "cell_type": "markdown",
   "id": "aea16609",
   "metadata": {},
   "source": [
    "## 最大回文字串"
   ]
  },
  {
   "cell_type": "code",
   "execution_count": 1,
   "id": "b6ddc83a",
   "metadata": {},
   "outputs": [],
   "source": [
    "##时间复杂度n2,空间复杂度n2，用n*n的空间来记录字串的判断结果，用从枚举开始节点和字串长度来遍历\n",
    "class Solution:\n",
    "    def longestPalindrome(self, s: str) -> str:\n",
    "        def isHuiwen(ss):\n",
    "            s2=ss[::-1]\n",
    "            if s2==ss:\n",
    "                return True\n",
    "            return False\n",
    "        \n",
    "        if not s:\n",
    "            return 0\n",
    "        n=len(s)\n",
    "        if n==1:\n",
    "            return s[0]\n",
    "        res=''\n",
    "        for i in range(n):\n",
    "            start=max(0,i-len(res)-1)\n",
    "            st=s[start:i+1]\n",
    "            if isHuiwen(st):\n",
    "                res=st\n",
    "            else:\n",
    "                if isHuiwen(st[1:]):\n",
    "                    res=st[1:]\n",
    "        return res"
   ]
  },
  {
   "cell_type": "markdown",
   "id": "6ace3b57",
   "metadata": {},
   "source": [
    "## 寻找两个正序数组的中位数"
   ]
  },
  {
   "cell_type": "code",
   "execution_count": null,
   "id": "dc3b7a29",
   "metadata": {},
   "outputs": [],
   "source": [
    "class Solution:\n",
    "    def findMedianSortedArrays(self, nums1: List[int], nums2: List[int]) -> float:\n",
    "        m,n = len(nums1),len(nums2)\n",
    "        i,j = 0,0\n",
    "        nums3 = []\n",
    "        while i < m and j<n:\n",
    "            if nums1[i] < nums2[j]:\n",
    "                nums3.append(nums1[i])\n",
    "                i += 1\n",
    "            elif nums1[i] > nums2[j]:\n",
    "                nums3.append(nums2[j])\n",
    "                j += 1\n",
    "            else:\n",
    "                nums3.append(nums1[i])\n",
    "                nums3.append(nums2[j])\n",
    "                i += 1\n",
    "                j += 1\n",
    "        if i == m:\n",
    "            nums3 += nums2[j:]\n",
    "        if j == n:\n",
    "            nums3 += nums1[i:] \n",
    "        mid = int((m+n)//2) - 1\n",
    "        if (m+n)%2==0:\n",
    "            return (nums3[mid] + nums3[mid+1])/2\n",
    "        else:\n",
    "            return nums3[mid+1]"
   ]
  }
 ],
 "metadata": {
  "kernelspec": {
   "display_name": "Python 3 (ipykernel)",
   "language": "python",
   "name": "python3"
  },
  "language_info": {
   "codemirror_mode": {
    "name": "ipython",
    "version": 3
   },
   "file_extension": ".py",
   "mimetype": "text/x-python",
   "name": "python",
   "nbconvert_exporter": "python",
   "pygments_lexer": "ipython3",
   "version": "3.12.3"
  },
  "toc": {
   "base_numbering": 1,
   "nav_menu": {},
   "number_sections": true,
   "sideBar": true,
   "skip_h1_title": false,
   "title_cell": "Table of Contents",
   "title_sidebar": "Contents",
   "toc_cell": false,
   "toc_position": {
    "height": "calc(100% - 180px)",
    "left": "10px",
    "top": "150px",
    "width": "277px"
   },
   "toc_section_display": true,
   "toc_window_display": true
  }
 },
 "nbformat": 4,
 "nbformat_minor": 5
}
